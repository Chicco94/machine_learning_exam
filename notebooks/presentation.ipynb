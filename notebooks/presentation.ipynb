{
 "cells": [
  {
   "cell_type": "markdown",
   "metadata": {},
   "source": [
    "# DQN Reinforcement Learning in Atari Games"
   ]
  },
  {
   "cell_type": "markdown",
   "metadata": {},
   "source": [
    "## Introduction\n",
    "A DQN, or Deep Q-Network, approximates a state-value function in a Q-Learning framework with a neural network. In the Atari Games case, they take in several frames of the game as an input and output state values for each action as an output.\n",
    "\n",
    "It is usually used in conjunction with Experience Replay, for storing the episode steps in memory for off-policy learning, where samples are drawn from the replay memory at random. Additionally, the Q-Network is usually optimized towards a frozen target network that is periodically updated with the latest weights every k steps (where k is a hyperparameter). The latter makes training more stable by preventing short-term oscillations from a moving target. The former tackles autocorrelation that would occur from on-line learning, and having a replay memory makes the problem more like a supervised learning problem.\n",
    "\n",
    "\n",
    "\n",
    "https://paperswithcode.com/method/dqn"
   ]
  },
  {
   "cell_type": "code",
   "execution_count": 1,
   "metadata": {},
   "outputs": [
    {
     "name": "stdout",
     "output_type": "stream",
     "text": [
      "Adding source directory to the sys.path: 'c:\\\\Users\\\\enric\\\\Documents\\\\GitHub\\\\machine_learning_exam\\\\src'\n"
     ]
    }
   ],
   "source": [
    "%reload_ext autoreload\n",
    "%autoreload 2\n",
    "\n",
    "import sys\n",
    "import os.path as osp\n",
    "\n",
    "SRC_SUBDIR = '../src/'\n",
    "SRC_SUBDIR = osp.abspath(SRC_SUBDIR)\n",
    "if SRC_SUBDIR not in sys.path:\n",
    "    print(f'Adding source directory to the sys.path: {SRC_SUBDIR!r}')\n",
    "    sys.path.insert(1, SRC_SUBDIR)\n",
    "    \n",
    "\n",
    "from config.config import *\n",
    "from features.get_env_features import get_env_features\n",
    "%matplotlib inline \n",
    "from features.transforms import Transforms\n",
    "import matplotlib.pyplot as plt\n",
    "import matplotlib.image as mpimg\n",
    "from dqn_agent import DQAgent"
   ]
  },
  {
   "cell_type": "markdown",
   "metadata": {},
   "source": [
    "## The Game\n",
    "**Breakout** is a classic arcade video game that was first released by Atari in 1976. It is a simple yet challenging game that has become a popular choice for testing and developing reinforcement learning algorithms. The game's objective is to break a wall of bricks using a paddle and ball, which bounces off the walls and obstacles.\n",
    "\n",
    "![The Game](../reports/figures/game_frame.png \"The Game\")\n",
    "\n",
    "### Objective\n",
    "The primary objective of the Breakout game is to clear the screen of all the bricks. Players control a paddle located at the bottom of the screen, which can be moved left and right. A ball is launched from the paddle, and it bounces around the screen, colliding with bricks. The player must move the paddle to ensure that the ball doesn't fall off the screen. When the ball strikes a brick, the brick disappears, and the player scores points. The game continues until all the bricks are removed or the player loses all their lives.\n",
    "\n",
    "### Complexity\n",
    "While the concept of the Breakout game is straightforward, it presents several challenges for AI agents, particularly when using reinforcement learning. These challenges include:\n",
    " - **High-Dimensional State Space**: The game is typically played using pixel-based graphics, resulting in a high-dimensional state space that the AI agent must interpret. This makes learning an optimal policy more challenging.\n",
    " - **Sparse Rewards**: The rewards in Breakout are sparse, as they are primarily obtained by breaking bricks. It can take a significant number of actions to achieve a meaningful reward signal.\n",
    " - **Exploration vs. Exploitation**: Agents must strike a balance between exploring different actions to discover the best strategy and exploiting actions that have yielded positive results.\n",
    " - **Temporal Credit Assignment**: Determining which actions contributed to a successful or unsuccessful outcome is challenging due to the delayed nature of rewards in the game."
   ]
  },
  {
   "cell_type": "code",
   "execution_count": 3,
   "metadata": {},
   "outputs": [
    {
     "data": {
      "image/png": "[encoded data removed]",
      "text/plain": [
       "<Figure size 640x480 with 1 Axes>"
      ]
     },
     "metadata": {},
     "output_type": "display_data"
    },
    {
     "ename": "",
     "evalue": "",
     "output_type": "error",
     "traceback": [
      "\u001b[1;31mSi è verificato un arresto anomalo del kernel durante l'esecuzione del codice nella cella attiva o in una cella precedente. Esaminare il codice nelle celle per identificare una possibile causa dell'errore. Per altre informazioni, fare clic su <a href='https://aka.ms/vscodeJupyterKernelCrash'>here</a>. Per altri dettagli, vedere Jupyter <a href='command:jupyter.viewOutput'>log</a>."
     ]
    }
   ],
   "source": [
    "env,state_space,n_actions = get_env_features(ENV_NAME)\n",
    "env.reset()\n",
    "obs = env.step(1)[0]\n",
    "\n",
    "plt.imshow(obs)\n",
    "plt.show()"
   ]
  },
  {
   "cell_type": "markdown",
   "metadata": {},
   "source": [
    "## DQN Algorithm\n",
    "**Deep Q-Network (DQN)** is a deep reinforcement learning algorithm that combines neural networks with Q-learning to enable agents to make decisions in complex and high-dimensional environments. It was introduced by Volodymyr Mnih et al. in their 2015 paper \"Human-level control through deep reinforcement learning.\"\n",
    "\n",
    "### Components of the DQN Algorithm\n",
    "- **Q-Network**: The core of the DQN is a neural network, often a deep convolutional neural network (CNN). This network is responsible for approximating the Q-function, denoted as Q(s, a), which estimates the expected cumulative reward of taking action 'a' in state 's'. The Q-network takes the current state as input and outputs Q-values for all possible actions.\n",
    "- **Experience Replay**: DQN uses an experience replay buffer, which is a storage of past experiences (state, action, reward, next state). This buffer helps in breaking the temporal correlation of sequential experiences, making training more stable. During training, random batches of experiences are sampled from the replay buffer for updates.\n",
    "- **Target Network**: To stabilize training, DQN employs two networks: the primary Q-network and a target network. The target network is a copy of the Q-network but with frozen parameters. The Q-network is periodically synchronized with the target network. This technique helps prevent the target Q-values from \"moving\" during training, improving stability.\n",
    "\n",
    "### Q-Learning Update Equation\n",
    "The core of the DQN algorithm is the Q-learning update equation, which is used to iteratively update the Q-values. It is based on the temporal difference (TD) error:\n",
    "\n",
    "$$ Q(s, a) = Q(s, a) + \\alpha * [r + \\gamma * max(Q(s', a')) - Q(s, a)] $$\n",
    "\n",
    "- $Q(s, a)$ is the Q-value for taking action $a$ in state $s$.\n",
    "- $\\alpha$ is the learning rate, determining the step size for the updates.\n",
    "- $r$ is the immediate reward obtained after taking action $a$ in state $s$.\n",
    "- $\\gamma$ is the discount factor, which weighs future rewards.\n",
    "- $max(Q(s', a'))$ represents the maximum Q-value for the next state $s$ considering all possible actions $a$.\n",
    "\n",
    "### Training\n",
    " - **Initialization**: The Q-network and the target network are initialized with random weights. The experience replay buffer is also initialized.\n",
    " - **Exploration vs. Exploitation**: During training, the agent must balance exploration (trying new actions) and exploitation (choosing the best-known actions). This balance is often achieved using an ε-greedy policy, where the agent selects the best-known action with probability 1-ε and explores with probability ε.\n",
    " - **Experience Collection**: The agent interacts with the environment, collecting experiences in the form of (state, action, reward, next state).\n",
    " - **Experience Replay**: Periodically, a random batch of experiences is sampled from the replay buffer, and the Q-network is updated using the Q-learning update equation.\n",
    " - **Target Network Update**: The target network is updated to match the Q-network periodically to stabilize training.\n",
    " - **Convergence**: Training continues until the Q-values start converging towards the optimal values."
   ]
  },
  {
   "cell_type": "markdown",
   "metadata": {},
   "source": [
    "## Project Implementation\n",
    "\n",
    "### Gym Implementation\n",
    "Explain the steps taken to implement the DQN algorithm for the Breakout game in Gymnasium.\n",
    "\n",
    "### Preprocessing\n",
    "Discuss the preprocessing of game frames, including image resizing and color channel conversion.\n",
    "\n",
    "### The Network\n",
    "Describe the neural network architecture used in the Q-network and the target network.\n",
    "\n",
    "\n",
    "Provide details on how experience replay is employed to stabilize training."
   ]
  },
  {
   "cell_type": "code",
   "execution_count": null,
   "metadata": {},
   "outputs": [],
   "source": [
    "env.reset()\n",
    "obs = env.step(1)[0]\n",
    "obs_ = env.step(3)[0]\n",
    "\n",
    "# setting values to rows and column variables\n",
    "rows = 1\n",
    "columns = 4\n",
    "fig, axs = plt.subplots(rows, columns, constrained_layout=True)\n",
    "\n",
    "axs[0].set_title('Frame 1')\n",
    "axs[0].imshow(obs)\n",
    "axs[0].axis('off')\n",
    "\n",
    "axs[1].set_title('Frame 2')\n",
    "axs[1].imshow(obs_)\n",
    "axs[1].axis('off')\n",
    "\n",
    "arrow = mpimg.imread('../reports/figures/arrow.png')\n",
    "axs[2].imshow(arrow)\n",
    "axs[2].axis('off')\n",
    "\n",
    "# Preprocess state\n",
    "state = Transforms.to_gray(obs,obs_)\n",
    "axs[3].set_title('Preprocess')\n",
    "axs[3].imshow(state[0], cmap='gray',  vmin=-0.5, vmax=0.5 )\n",
    "axs[3].axis('off')\n",
    "\n",
    "\n",
    "plt.savefig(f'../reports/figures/preprocess.png')\n",
    "plt.show()\n"
   ]
  },
  {
   "cell_type": "markdown",
   "metadata": {},
   "source": [
    "# Training"
   ]
  },
  {
   "cell_type": "code",
   "execution_count": 2,
   "metadata": {},
   "outputs": [
    {
     "name": "stdout",
     "output_type": "stream",
     "text": [
      "[Errno 2] No such file or directory: '../models/BreakoutDeterministic/no_exp.pth'\n",
      "Target network replaced\n"
     ]
    },
    {
     "name": "stderr",
     "output_type": "stream",
     "text": [
      "c:\\Users\\enric\\Documents\\GitHub\\machine_learning_exam\\.venv\\lib\\site-packages\\gymnasium\\utils\\passive_env_checker.py:364: UserWarning: \u001b[33mWARN: No render fps was declared in the environment (env.metadata['render_fps'] is None or not defined), rendering may occur at inconsistent fps.\u001b[0m\n",
      "  logger.warn(\n"
     ]
    },
    {
     "name": "stdout",
     "output_type": "stream",
     "text": [
      "Episode 0/1: \n",
      "\tScore: 0.0\n",
      "\tAvg score (past 100): 0.0\t\t\t\t\n",
      "\tEpsilon: 0.9\n",
      "\tSteps made: 2500\n",
      "loaded pretrained model breakout_model_50000\n",
      "Target network replaced\n",
      "Episode 0/1: \n",
      "\tScore: 4.0\n",
      "\tAvg score (past 100): 4.0\t\t\t\t\n",
      "\tEpsilon: 0.9\n",
      "\tSteps made: 243\n",
      "loaded pretrained model breakout_model_75000\n",
      "Target network replaced\n",
      "Episode 0/1: \n",
      "\tScore: 50.0\n",
      "\tAvg score (past 100): 50.0\t\t\t\t\n",
      "\tEpsilon: 0.9\n",
      "\tSteps made: 1158\n",
      "loaded pretrained model breakout_model_99500\n",
      "Target network replaced\n",
      "Episode 0/1: \n",
      "\tScore: 115.0\n",
      "\tAvg score (past 100): 115.0\t\t\t\t\n",
      "\tEpsilon: 0.9\n",
      "\tSteps made: 1474\n"
     ]
    },
    {
     "ename": "",
     "evalue": "",
     "output_type": "error",
     "traceback": [
      "\u001b[1;31mSi è verificato un arresto anomalo del kernel durante l'esecuzione del codice nella cella attiva o in una cella precedente. Esaminare il codice nelle celle per identificare una possibile causa dell'errore. Per altre informazioni, fare clic su <a href='https://aka.ms/vscodeJupyterKernelCrash'>here</a>. Per altri dettagli, vedere Jupyter <a href='command:jupyter.viewOutput'>log</a>."
     ]
    }
   ],
   "source": [
    "env,state_space,n_actions = get_env_features(ENV_NAME,max_episode_steps=2500)\n",
    "\n",
    "models = [\n",
    "    'no_exp',\n",
    "\t'breakout_model_50000',\n",
    "\t'breakout_model_75000',\n",
    "\t'breakout_model_99500']\n",
    "\n",
    "for model in models:\n",
    "\tagent = DQAgent(replace_target_cnt=1, env=env, state_space=state_space, action_space=n_actions, model_name=model, gamma=GAMMA,eps_strt=EPS_START, eps_end=EPS_END, eps_dec=EPS_DECAY, batch_size=BATCH_SIZE, lr=LR)\n",
    "\tagent.play_games(num_eps=1,render=True)"
   ]
  }
 ],
 "metadata": {
  "kernelspec": {
   "display_name": ".venv",
   "language": "python",
   "name": "python3"
  },
  "language_info": {
   "codemirror_mode": {
    "name": "ipython",
    "version": 3
   },
   "file_extension": ".py",
   "mimetype": "text/x-python",
   "name": "python",
   "nbconvert_exporter": "python",
   "pygments_lexer": "ipython3",
   "version": "3.8.10"
  },
  "orig_nbformat": 4
 },
 "nbformat": 4,
 "nbformat_minor": 2
}
