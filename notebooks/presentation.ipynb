{
 "cells": [
  {
   "cell_type": "markdown",
   "metadata": {},
   "source": [
    "# DQN Reinforcement Learning in Atari Games\n",
    "\n",
    "A DQN, or Deep Q-Network, approximates a state-value function in a Q-Learning framework with a neural network. In the Atari Games case, they take in several frames of the game as an input and output state values for each action as an output.\n",
    "\n",
    "It is usually used in conjunction with Experience Replay, for storing the episode steps in memory for off-policy learning, where samples are drawn from the replay memory at random. Additionally, the Q-Network is usually optimized towards a frozen target network that is periodically updated with the latest weights every k steps (where k is a hyperparameter). The latter makes training more stable by preventing short-term oscillations from a moving target. The former tackles autocorrelation that would occur from on-line learning, and having a replay memory makes the problem more like a supervised learning problem.\n",
    "\n",
    "\n",
    "\n",
    "https://paperswithcode.com/method/dqn"
   ]
  },
  {
   "cell_type": "code",
   "execution_count": 1,
   "metadata": {},
   "outputs": [
    {
     "name": "stdout",
     "output_type": "stream",
     "text": [
      "Adding source directory to the sys.path: 'c:\\\\Users\\\\enric\\\\Documents\\\\GitHub\\\\machine_learning_exam\\\\src'\n"
     ]
    }
   ],
   "source": [
    "%reload_ext autoreload\n",
    "%autoreload 2\n",
    "\n",
    "import sys\n",
    "import os.path as osp\n",
    "\n",
    "SRC_SUBDIR = '../src/'\n",
    "SRC_SUBDIR = osp.abspath(SRC_SUBDIR)\n",
    "if SRC_SUBDIR not in sys.path:\n",
    "    print(f'Adding source directory to the sys.path: {SRC_SUBDIR!r}')\n",
    "    sys.path.insert(1, SRC_SUBDIR)\n",
    "    \n",
    "\n",
    "from config.config import *\n",
    "from features.get_env_features import get_env_features\n",
    "%matplotlib inline \n",
    "from features.transforms import Transforms\n",
    "import matplotlib.pyplot as plt\n",
    "import matplotlib.image as mpimg\n",
    "from dqn_agent import DQAgent"
   ]
  },
  {
   "cell_type": "markdown",
   "metadata": {},
   "source": [
    "## The Game\n",
    "The choosen game for this project is Breakout"
   ]
  },
  {
   "cell_type": "code",
   "execution_count": 4,
   "metadata": {},
   "outputs": [
    {
     "data": {
      "image/png": "[encoded data removed]",
      "text/plain": [
       "<Figure size 640x480 with 1 Axes>"
      ]
     },
     "metadata": {},
     "output_type": "display_data"
    }
   ],
   "source": [
    "env,state_space,n_actions = get_env_features(ENV_NAME)\n",
    "env.reset()\n",
    "obs = env.step(1)[0]\n",
    "\n",
    "plt.imshow(obs)\n",
    "plt.show()"
   ]
  },
  {
   "cell_type": "markdown",
   "metadata": {},
   "source": [
    "## Preprocessing\n",
    "Image resize and from RGB to greys"
   ]
  },
  {
   "cell_type": "code",
   "execution_count": 5,
   "metadata": {},
   "outputs": [
    {
     "data": {
      "image/png": "[encoded data removed]",
      "text/plain": [
       "<Figure size 640x480 with 4 Axes>"
      ]
     },
     "metadata": {},
     "output_type": "display_data"
    }
   ],
   "source": [
    "env.reset()\n",
    "obs = env.step(1)[0]\n",
    "obs_ = env.step(3)[0]\n",
    "\n",
    "# setting values to rows and column variables\n",
    "rows = 1\n",
    "columns = 4\n",
    "fig, axs = plt.subplots(rows, columns, constrained_layout=True)\n",
    "\n",
    "axs[0].set_title('Frame 1')\n",
    "axs[0].imshow(obs)\n",
    "axs[0].axis('off')\n",
    "\n",
    "axs[1].set_title('Frame 2')\n",
    "axs[1].imshow(obs_)\n",
    "axs[1].axis('off')\n",
    "\n",
    "arrow = mpimg.imread('../reports/figures/arrow.png')\n",
    "axs[2].imshow(arrow)\n",
    "axs[2].axis('off')\n",
    "\n",
    "# Preprocess state\n",
    "state = Transforms.to_gray(obs,obs_)\n",
    "axs[3].set_title('Preprocess')\n",
    "axs[3].imshow(state[0], cmap='gray',  vmin=-0.5, vmax=0.5 )\n",
    "axs[3].axis('off')\n",
    "\n",
    "\n",
    "plt.savefig(f'../reports/figures/preprocess.png')\n",
    "plt.show()\n"
   ]
  },
  {
   "cell_type": "markdown",
   "metadata": {},
   "source": [
    "# Training"
   ]
  },
  {
   "cell_type": "code",
   "execution_count": 2,
   "metadata": {},
   "outputs": [
    {
     "name": "stdout",
     "output_type": "stream",
     "text": [
      "loaded pretrained model breakout_model_50000\n",
      "Target network replaced\n"
     ]
    },
    {
     "name": "stderr",
     "output_type": "stream",
     "text": [
      "c:\\Users\\enric\\Documents\\GitHub\\machine_learning_exam\\.venv\\lib\\site-packages\\gymnasium\\utils\\passive_env_checker.py:364: UserWarning: \u001b[33mWARN: No render fps was declared in the environment (env.metadata['render_fps'] is None or not defined), rendering may occur at inconsistent fps.\u001b[0m\n",
      "  logger.warn(\n"
     ]
    },
    {
     "name": "stdout",
     "output_type": "stream",
     "text": [
      "Episode 0/1: \n",
      "\tScore: 4.0\n",
      "\tAvg score (past 100): 4.0\t\t\t\t\n",
      "\tEpsilon: 0.9\n",
      "\tSteps made: 243\n",
      "loaded pretrained model breakout_model_75000\n",
      "Target network replaced\n",
      "Episode 0/1: \n",
      "\tScore: 50.0\n",
      "\tAvg score (past 100): 50.0\t\t\t\t\n",
      "\tEpsilon: 0.9\n",
      "\tSteps made: 1158\n",
      "loaded pretrained model breakout_model_96900\n",
      "Target network replaced\n",
      "Episode 0/1: \n",
      "\tScore: 106.0\n",
      "\tAvg score (past 100): 106.0\t\t\t\t\n",
      "\tEpsilon: 0.9\n",
      "\tSteps made: 1590\n"
     ]
    },
    {
     "ename": "",
     "evalue": "",
     "output_type": "error",
     "traceback": [
      "\u001b[1;31mSi è verificato un arresto anomalo del kernel durante l'esecuzione del codice nella cella attiva o in una cella precedente. Esaminare il codice nelle celle per identificare una possibile causa dell'errore. Per altre informazioni, fare clic su <a href='https://aka.ms/vscodeJupyterKernelCrash'>here</a>. Per altri dettagli, vedere Jupyter <a href='command:jupyter.viewOutput'>log</a>."
     ]
    }
   ],
   "source": [
    "env,state_space,n_actions = get_env_features(ENV_NAME,max_episode_steps=1500)\n",
    "\n",
    "models = [\n",
    "    'no_exp',\n",
    "\t'breakout_model_50000',\n",
    "\t'breakout_model_75000',\n",
    "\t'breakout_model_99500']\n",
    "\n",
    "for model in models:\n",
    "\tagent = DQAgent(replace_target_cnt=1, env=env, state_space=state_space, action_space=n_actions, model_name=model, gamma=GAMMA,eps_strt=EPS_START, eps_end=EPS_END, eps_dec=EPS_DECAY, batch_size=BATCH_SIZE, lr=LR)\n",
    "\tagent.play_games(num_eps=1,render=True)"
   ]
  }
 ],
 "metadata": {
  "kernelspec": {
   "display_name": ".venv",
   "language": "python",
   "name": "python3"
  },
  "language_info": {
   "codemirror_mode": {
    "name": "ipython",
    "version": 3
   },
   "file_extension": ".py",
   "mimetype": "text/x-python",
   "name": "python",
   "nbconvert_exporter": "python",
   "pygments_lexer": "ipython3",
   "version": "3.8.10"
  },
  "orig_nbformat": 4
 },
 "nbformat": 4,
 "nbformat_minor": 2
}
